{
 "cells": [
  {
   "cell_type": "markdown",
   "id": "497edd20",
   "metadata": {},
   "source": [
    "# CatBoost Example\n",
    "\n",
    "Visualizing the learning curves.\n",
    "\n",
    "Author: https://github.com/deburky"
   ]
  },
  {
   "cell_type": "markdown",
   "id": "c9dc65ff-0954-4cf5-bbd3-8c3b813a9376",
   "metadata": {},
   "source": [
    "## Synthetic example"
   ]
  },
  {
   "cell_type": "code",
   "execution_count": 3,
   "id": "2b6e4177-bc60-4722-ac82-83dc2dd02843",
   "metadata": {},
   "outputs": [
    {
     "data": {
      "application/vnd.jupyter.widget-view+json": {
       "model_id": "b139cfa8d23b41f4a7bc5bf14b5ab5c2",
       "version_major": 2,
       "version_minor": 0
      },
      "text/plain": [
       "MetricVisualizer(layout=Layout(align_self='stretch', height='500px'))"
      ]
     },
     "metadata": {},
     "output_type": "display_data"
    },
    {
     "name": "stdout",
     "output_type": "stream",
     "text": [
      "Training on fold [0/3]\n",
      "\n",
      "bestTest = 0.5586036909\n",
      "bestIteration = 47\n",
      "\n",
      "Training on fold [1/3]\n",
      "\n",
      "bestTest = 0.5836710212\n",
      "bestIteration = 25\n",
      "\n",
      "Training on fold [2/3]\n",
      "\n",
      "bestTest = 0.5646608486\n",
      "bestIteration = 43\n",
      "\n"
     ]
    }
   ],
   "source": [
    "from catboost import Pool, cv, datasets\n",
    "\n",
    "# Load example data\n",
    "train_df, test_df = datasets.titanic()\n",
    "train_df = train_df.dropna(subset=[\"Pclass\", \"Age\", \"Fare\", \"Survived\"])\n",
    "\n",
    "train = Pool(train_df[[\"Pclass\", \"Age\", \"Fare\"]], label=train_df[\"Survived\"])\n",
    "\n",
    "# Define model params (must include loss_function)\n",
    "params = {\n",
    "    \"iterations\": 50,\n",
    "    \"learning_rate\": 0.1,\n",
    "    \"depth\": 3,\n",
    "    \"loss_function\": \"Logloss\",\n",
    "    \"verbose\": False,\n",
    "}\n",
    "\n",
    "# Perform cross-validation with plotting\n",
    "cv_data = cv(params=params, pool=train, fold_count=3, plot=True)"
   ]
  },
  {
   "cell_type": "markdown",
   "id": "cf50ba52-6bac-4d45-bd3f-d8ca04b431b6",
   "metadata": {},
   "source": [
    "## Real world example"
   ]
  },
  {
   "cell_type": "code",
   "execution_count": 4,
   "id": "8ee90e29",
   "metadata": {},
   "outputs": [],
   "source": [
    "from pathlib import Path\n",
    "import pandas as pd\n",
    "\n",
    "# Set the path to the data directory\n",
    "data_dir = Path.cwd().parent / \"data\"\n",
    "\n",
    "# Load the data\n",
    "dataset = pd.read_csv(data_dir / \"BankCaseStudyData.csv\")\n",
    "\n",
    "# Prepare features and labels\n",
    "label = \"Final_Decision\"\n",
    "dataset[label] = dataset[label].map({\"Accept\": 0, \"Decline\": 1})\n",
    "\n",
    "num_features = [\n",
    "    \"Application_Score\",\n",
    "    \"Bureau_Score\",\n",
    "    \"Loan_Amount\",\n",
    "    \"Time_with_Bank\",\n",
    "    \"Time_in_Employment\",\n",
    "    \"Loan_to_income\",\n",
    "    \"Gross_Annual_Income\",\n",
    "]\n",
    "\n",
    "cat_features = [\n",
    "    \"Loan_Payment_Frequency\",\n",
    "    \"Residential_Status\",\n",
    "    \"Cheque_Card_Flag\",\n",
    "    \"Existing_Customer_Flag\",\n",
    "    \"Home_Telephone_Number\",\n",
    "]\n",
    "\n",
    "features = cat_features + num_features\n",
    "\n",
    "ix_train = dataset[\"split\"] == \"Development\"\n",
    "ix_test = dataset[\"split\"] == \"Validation\"\n",
    "\n",
    "X_train = dataset.loc[ix_train, features]\n",
    "y_train = dataset.loc[ix_train, label]\n",
    "X_test = dataset.loc[ix_test, features]\n",
    "y_test = dataset.loc[ix_test, label]\n",
    "\n",
    "X_train.loc[:, cat_features] = X_train.loc[:, cat_features].astype(str).fillna(\"NA\")\n",
    "X_test.loc[:, cat_features] = X_test.loc[:, cat_features].astype(str).fillna(\"NA\")"
   ]
  },
  {
   "cell_type": "code",
   "execution_count": 5,
   "id": "dea6faa3",
   "metadata": {},
   "outputs": [
    {
     "data": {
      "application/vnd.jupyter.widget-view+json": {
       "model_id": "06783683d04c469da7c29274cbff0006",
       "version_major": 2,
       "version_minor": 0
      },
      "text/plain": [
       "MetricVisualizer(layout=Layout(align_self='stretch', height='500px'))"
      ]
     },
     "metadata": {},
     "output_type": "display_data"
    },
    {
     "name": "stdout",
     "output_type": "stream",
     "text": [
      "Learning rate set to 0.066322\n",
      "0:\tlearn: 0.5952337\ttest: 0.5954666\tbest: 0.5954666 (0)\ttotal: 12.4ms\tremaining: 12.4s\n",
      "100:\tlearn: 0.1555173\ttest: 0.1752337\tbest: 0.1752337 (100)\ttotal: 964ms\tremaining: 8.58s\n",
      "200:\tlearn: 0.1426872\ttest: 0.1739138\tbest: 0.1737967 (168)\ttotal: 1.7s\tremaining: 6.75s\n",
      "Stopped by overfitting detector  (100 iterations wait)\n",
      "\n",
      "bestTest = 0.17379668\n",
      "bestIteration = 168\n",
      "\n",
      "Shrink model to first 169 iterations.\n"
     ]
    },
    {
     "data": {
      "text/plain": [
       "<catboost.core.CatBoostClassifier at 0x12ab86710>"
      ]
     },
     "execution_count": 5,
     "metadata": {},
     "output_type": "execute_result"
    }
   ],
   "source": [
    "import catboost as cb\n",
    "\n",
    "train_pool = cb.Pool(X_train, y_train, cat_features=cat_features)\n",
    "test_pool = cb.Pool(X_test, y_test, cat_features=cat_features)\n",
    "\n",
    "cb_model = cb.CatBoostClassifier(\n",
    "    random_state=42,\n",
    "    loss_function=\"Logloss\",\n",
    "    eval_metric=\"Logloss\",\n",
    "    verbose=100,\n",
    "    cat_features=cat_features,\n",
    "    allow_writing_files=True,\n",
    "    od_type=\"Iter\",\n",
    "    od_wait=100,\n",
    ")\n",
    "\n",
    "cb_model.fit(train_pool, eval_set=test_pool, plot=True)"
   ]
  }
 ],
 "metadata": {
  "kernelspec": {
   "display_name": "Python 3 (ipykernel)",
   "language": "python",
   "name": "python3"
  },
  "language_info": {
   "codemirror_mode": {
    "name": "ipython",
    "version": 3
   },
   "file_extension": ".py",
   "mimetype": "text/x-python",
   "name": "python",
   "nbconvert_exporter": "python",
   "pygments_lexer": "ipython3",
   "version": "3.11.8"
  }
 },
 "nbformat": 4,
 "nbformat_minor": 5
}
